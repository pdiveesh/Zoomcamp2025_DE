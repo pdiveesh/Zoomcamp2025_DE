{
 "cells": [
  {
   "cell_type": "code",
   "execution_count": 1,
   "id": "1bd4e5c5-28d0-4b35-8742-86cf5424a50b",
   "metadata": {},
   "outputs": [
    {
     "name": "stdout",
     "output_type": "stream",
     "text": [
      "wassup!\n"
     ]
    }
   ],
   "source": [
    "print(\"wassup!\")"
   ]
  },
  {
   "cell_type": "code",
   "execution_count": null,
   "id": "7fc15f65-d329-4096-ac5d-5aa94edeb825",
   "metadata": {},
   "outputs": [],
   "source": []
  }
 ],
 "metadata": {
  "kernelspec": {
   "display_name": "Python 3 (ipykernel)",
   "language": "python",
   "name": "python3"
  },
  "language_info": {
   "codemirror_mode": {
    "name": "ipython",
    "version": 3
   },
   "file_extension": ".py",
   "mimetype": "text/x-python",
   "name": "python",
   "nbconvert_exporter": "python",
   "pygments_lexer": "ipython3",
   "version": "3.12.1"
  }
 },
 "nbformat": 4,
 "nbformat_minor": 5
}
